{
  "nbformat": 4,
  "nbformat_minor": 0,
  "metadata": {
    "colab": {
      "provenance": [],
      "authorship_tag": "ABX9TyMxnuIkwly5XWQ3yOk1uEgi",
      "include_colab_link": true
    },
    "kernelspec": {
      "name": "python3",
      "display_name": "Python 3"
    },
    "language_info": {
      "name": "python"
    }
  },
  "cells": [
    {
      "cell_type": "markdown",
      "metadata": {
        "id": "view-in-github",
        "colab_type": "text"
      },
      "source": [
        "<a href=\"https://colab.research.google.com/github/keerthanamg/NLP-Sentiment-Analysis-Restaurant-Reviews-02/blob/main/NLP_Sentiment_Analysis_Restaurant_Reviews_02.ipynb\" target=\"_parent\"><img src=\"https://colab.research.google.com/assets/colab-badge.svg\" alt=\"Open In Colab\"/></a>"
      ]
    },
    {
      "cell_type": "code",
      "source": [
        "import pandas as pd\n",
        "from sklearn.model_selection import train_test_split\n",
        "from sklearn.feature_extraction.text import CountVectorizer\n",
        "from sklearn.naive_bayes import MultinomialNB\n",
        "from sklearn.metrics import accuracy_score\n",
        "from sklearn.metrics import classification_report, confusion_matrix\n",
        "\n",
        "# load the data\n",
        "data = pd.read_csv('/content/Restaurant_Reviews (1).tsv', sep='\\t')\n",
        "\n",
        "# split the data into training and testing sets\n",
        "X_train, X_test, y_train, y_test = train_test_split(data['Review'], data['Liked'], test_size=0.2, random_state=42)\n",
        "\n",
        "# vectorize the reviews\n",
        "vectorizer = CountVectorizer()\n",
        "X_train_vectorized = vectorizer.fit_transform(X_train)\n",
        "X_test_vectorized = vectorizer.transform(X_test)\n",
        "\n",
        "# train the model\n",
        "model = MultinomialNB()\n",
        "model.fit(X_train_vectorized, y_train)\n",
        "\n",
        "# make predictions on the test set\n",
        "y_pred = model.predict(X_test_vectorized)\n",
        "\n",
        "# print the metrics\n",
        "print('Accuracy:', accuracy_score(y_test, y_pred))\n",
        "print(\"Confusion Matrix:\\n\",confusion_matrix(y_test, y_pred))\n",
        "print('Classification Report : \\n', classification_report(y_test, y_pred))"
      ],
      "metadata": {
        "id": "1sS1MAKcxk-v"
      },
      "execution_count": null,
      "outputs": []
    },
    {
      "cell_type": "markdown",
      "source": [
        "Accuracy: 0.795\n",
        "Confusion Matrix:\n",
        " [[81 15]\n",
        " [26 78]]\n",
        "Classification Report :\n",
        "               precision    recall  f1-score   support\n",
        "\n",
        "           0       0.76      0.84      0.80        96\n",
        "           1       0.84      0.75      0.79       104\n",
        "\n",
        "    accuracy                           0.80       200\n",
        "   macro avg       0.80      0.80      0.79       200\n",
        "weighted avg       0.80      0.80      0.79       200"
      ],
      "metadata": {
        "id": "wcQ7olKxzHoe"
      }
    },
    {
      "cell_type": "code",
      "source": [
        "# Predicting values\n",
        "# \"review = 'Food was pretty good and the service was fast.' \"\n",
        "review = input(\"Enter the sentence: \")\n",
        "vectorized_review = vectorizer.transform([review])\n",
        "prediction = model.predict(vectorized_review)\n",
        "\n",
        "if prediction==1:\n",
        "  print('This is a POSITIVE review.')\n",
        "else:\n",
        "  print('This is a NEGATIVE review!')"
      ],
      "metadata": {
        "id": "kmCyfqQLzM37"
      },
      "execution_count": null,
      "outputs": []
    },
    {
      "cell_type": "code",
      "source": [
        "# review = \"I absolutely loved this movie! The acting was amazing and the story was so moving.\"\n",
        "review = input(\"Enter the paragraph\")\n",
        "vectorized_review = vectorizer.transform([review])\n",
        "prediction = model.predict(vectorized_review)\n",
        "print(prediction)"
      ],
      "metadata": {
        "id": "Lm9XRHEKzS_J"
      },
      "execution_count": null,
      "outputs": []
    },
    {
      "cell_type": "code",
      "source": [
        "# Predicting values\n",
        "review = 'Food was pretty bad and the service was slow.'\n",
        "vectorized_review = vectorizer.transform([review])\n",
        "prediction = model.predict(vectorized_review)\n",
        "\n",
        "if prediction==1:\n",
        "  print('This is a POSITIVE review.')\n",
        "else:\n",
        "  print('This is a NEGATIVE review!')"
      ],
      "metadata": {
        "id": "9Wb7h2fzzW7t"
      },
      "execution_count": null,
      "outputs": []
    }
  ]
}